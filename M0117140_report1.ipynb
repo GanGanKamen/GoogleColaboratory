{
  "nbformat": 4,
  "nbformat_minor": 0,
  "metadata": {
    "colab": {
      "name": "M011xxxxx-report1.ipynb",
      "version": "0.3.2",
      "provenance": []
    },
    "language_info": {
      "codemirror_mode": {
        "name": "ipython",
        "version": 3
      },
      "file_extension": ".py",
      "mimetype": "text/x-python",
      "name": "python",
      "nbconvert_exporter": "python",
      "pygments_lexer": "ipython3",
      "version": "3.6.4"
    },
    "kernelspec": {
      "display_name": "Python 3",
      "language": "python",
      "name": "python3"
    }
  },
  "cells": [
    {
      "metadata": {
        "id": "svOgclNiFosN",
        "colab_type": "text"
      },
      "cell_type": "markdown",
      "source": [
        "# 中間レポート(5/7 正午締め切り)\n",
        "\n",
        "## 学籍番号 M0117140\n",
        "\n",
        "## 名前 朱　文イク\n"
      ]
    },
    {
      "metadata": {
        "id": "SoFEncpnFosO",
        "colab_type": "text"
      },
      "cell_type": "markdown",
      "source": [
        "# 問題：\n",
        "\n",
        "## ３の倍数と３のつく数字で「アホ」になる\n",
        "- 3の倍数のとき「アホ」と表示\n",
        "- 13 とか　31,32 のように３がつくときも「アホ」と表示"
      ]
    },
    {
      "metadata": {
        "id": "iy4eLJbtFosP",
        "colab_type": "text"
      },
      "cell_type": "markdown",
      "source": [
        "### 回答"
      ]
    },
    {
      "metadata": {
        "id": "9WAw9KthFosQ",
        "colab_type": "code",
        "colab": {
          "base_uri": "https://localhost:8080/",
          "height": 1777
        },
        "outputId": "088d15fe-399e-4ec9-e4ae-2040c0a6e039"
      },
      "cell_type": "code",
      "source": [
        "for i in range(1,101):\n",
        "  if i - 30 < 10 and i -30 >= 0:\n",
        "    print(\"アホ\")\n",
        "  elif (i + 10)%10 == 3:\n",
        "    print(\"アホ\")\n",
        "  else:\n",
        "    print(i)"
      ],
      "execution_count": 5,
      "outputs": [
        {
          "output_type": "stream",
          "text": [
            "1\n",
            "2\n",
            "アホ\n",
            "4\n",
            "5\n",
            "6\n",
            "7\n",
            "8\n",
            "9\n",
            "10\n",
            "11\n",
            "12\n",
            "アホ\n",
            "14\n",
            "15\n",
            "16\n",
            "17\n",
            "18\n",
            "19\n",
            "20\n",
            "21\n",
            "22\n",
            "アホ\n",
            "24\n",
            "25\n",
            "26\n",
            "27\n",
            "28\n",
            "29\n",
            "アホ\n",
            "アホ\n",
            "アホ\n",
            "アホ\n",
            "アホ\n",
            "アホ\n",
            "アホ\n",
            "アホ\n",
            "アホ\n",
            "アホ\n",
            "40\n",
            "41\n",
            "42\n",
            "アホ\n",
            "44\n",
            "45\n",
            "46\n",
            "47\n",
            "48\n",
            "49\n",
            "50\n",
            "51\n",
            "52\n",
            "アホ\n",
            "54\n",
            "55\n",
            "56\n",
            "57\n",
            "58\n",
            "59\n",
            "60\n",
            "61\n",
            "62\n",
            "アホ\n",
            "64\n",
            "65\n",
            "66\n",
            "67\n",
            "68\n",
            "69\n",
            "70\n",
            "71\n",
            "72\n",
            "アホ\n",
            "74\n",
            "75\n",
            "76\n",
            "77\n",
            "78\n",
            "79\n",
            "80\n",
            "81\n",
            "82\n",
            "アホ\n",
            "84\n",
            "85\n",
            "86\n",
            "87\n",
            "88\n",
            "89\n",
            "90\n",
            "91\n",
            "92\n",
            "アホ\n",
            "94\n",
            "95\n",
            "96\n",
            "97\n",
            "98\n",
            "99\n",
            "100\n"
          ],
          "name": "stdout"
        }
      ]
    }
  ]
}